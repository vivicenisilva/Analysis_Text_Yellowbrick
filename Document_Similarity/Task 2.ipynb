{
 "cells": [
  {
   "cell_type": "markdown",
   "metadata": {},
   "source": [
    "<h1 style=\"text-align:center;\">Visual Analysis of Document Similarity</h1>"
   ]
  },
  {
   "cell_type": "markdown",
   "metadata": {},
   "source": [
    "#### About the Data: Hobbies Corpus \n",
    "\n",
    "Baleen corpus contains 448 files in 5 categories. Structured as:\n",
    "\n",
    "- 7,420 paragraphs (16.562 mean paragraphs per file)\n",
    "- 14,251 sentences (1.921 mean sentences per paragraph).\n",
    "\n",
    "Word count of 288,520 with a vocabulary of 23,738 (12.154 lexical diversity).\n",
    "Corpus scan took 14 seconds.\n",
    "\n",
    "#### Category Breakdown \n",
    "\n",
    "The categories in this corpus have the following properties:\n",
    "\n",
    "#### Documents and File Size \n",
    "\n",
    "- books: 72 docs (4.1MiB)\n",
    "- cinema: 100 docs (9.2MiB)\n",
    "- cooking: 30 docs (3.0MiB)\n",
    "- gaming: 128 docs (8.8MiB)\n",
    "- sports: 118 docs (15.9MiB)\n",
    "\n",
    "#### Document Structure \n",
    "\n",
    "- books: 844 paragraphs and 2,030 sentences\n",
    "- cinema: 1,475 paragraphs and 3,047 sentences\n",
    "- cooking: 1,190 paragraphs and 2,425 sentences\n",
    "- gaming: 1,802 paragraphs and 3,373 sentences\n",
    "- sports: 2,109 paragraphs and 3,376 sentences\n",
    "\n",
    "#### Words and Vocabulary\n",
    "\n",
    "- books: 41,851 words with a vocabulary size of 7,838\n",
    "- cinema: 69,153 words with a vocabulary size of 10,274\n",
    "- cooking: 37,854 words with a vocabulary size of 5,038\n",
    "- gaming: 70,778 words with a vocabulary size of 9,120\n",
    "- sports: 68,884 words with a vocabulary size of 8,028\n"
   ]
  },
  {
   "cell_type": "markdown",
   "metadata": {},
   "source": [
    "### Task 1: Load the Corpus"
   ]
  },
  {
   "cell_type": "code",
   "execution_count": 1,
   "metadata": {},
   "outputs": [],
   "source": [
    "from textDB import load_data\n",
    "corpus = load_data('hobbies')"
   ]
  },
  {
   "cell_type": "markdown",
   "metadata": {},
   "source": [
    " "
   ]
  },
  {
   "cell_type": "markdown",
   "metadata": {},
   "source": [
    "### Task 2: Vectorize the Documents"
   ]
  },
  {
   "cell_type": "code",
   "execution_count": null,
   "metadata": {},
   "outputs": [],
   "source": []
  },
  {
   "cell_type": "markdown",
   "metadata": {},
   "source": [
    " "
   ]
  },
  {
   "cell_type": "markdown",
   "metadata": {},
   "source": [
    "### Task 3: t-SNE: Clustering Similar Documents with Squared Euclidean Distance And Euclidean Distance"
   ]
  },
  {
   "cell_type": "code",
   "execution_count": null,
   "metadata": {},
   "outputs": [],
   "source": []
  },
  {
   "cell_type": "markdown",
   "metadata": {},
   "source": [
    " "
   ]
  },
  {
   "cell_type": "code",
   "execution_count": null,
   "metadata": {},
   "outputs": [],
   "source": []
  },
  {
   "cell_type": "markdown",
   "metadata": {},
   "source": [
    "<h3 align=\"center\"> Distance Metrics for Non-Numerical Inputs</h3>"
   ]
  },
  {
   "cell_type": "code",
   "execution_count": 5,
   "metadata": {},
   "outputs": [],
   "source": [
    "# Examples of distance metrics\n",
    "    distance_functions = [\n",
    "    \"braycurtis\", \"canberra\", \"chebyshev\", \"cityblock\", \"correlation\", \"cosine\",\n",
    "    \"dice\", \"euclidean\", \"hamming\", \"jaccard\", \"kulsinski\", \"mahalanobis\",\n",
    "    \"matching\", \"minkowski\", \"rogerstanimoto\", \"russellrao\", \"seuclidean\",\n",
    "    \"sokalmichener\", \"sokalsneath\", \"sqeuclidean\", \"yule\"\n",
    "    ]"
   ]
  },
  {
   "cell_type": "markdown",
   "metadata": {},
   "source": [
    "We could try them all, but several of them just don't make sense in the context of text data. Let's go through them individually:\n"
   ]
  },
  {
   "cell_type": "markdown",
   "metadata": {},
   "source": [
    " "
   ]
  },
  {
   "cell_type": "markdown",
   "metadata": {},
   "source": [
    "### Task 4: Manhattan (aka “Taxicab” or “City Block”) Distance"
   ]
  },
  {
   "cell_type": "markdown",
   "metadata": {},
   "source": [
    "![Alt-text](https://upload.wikimedia.org/wikipedia/commons/0/08/Manhattan_distance.svg \"By User:Psychonaut - Created by User:Psychonaut with XFig, Public Domain, https://commons.wikimedia.org/w/index.php?curid=731390\")"
   ]
  },
  {
   "cell_type": "code",
   "execution_count": null,
   "metadata": {},
   "outputs": [],
   "source": []
  },
  {
   "cell_type": "markdown",
   "metadata": {},
   "source": [
    "### Task 5: Bray Curtis Dissimilarity and Canberra Distance"
   ]
  },
  {
   "cell_type": "code",
   "execution_count": null,
   "metadata": {},
   "outputs": [],
   "source": []
  },
  {
   "cell_type": "code",
   "execution_count": null,
   "metadata": {},
   "outputs": [],
   "source": []
  },
  {
   "cell_type": "markdown",
   "metadata": {},
   "source": [
    "### Task 6: Cosine Distance\n",
    "<img src=\"consine_distance.png\" align=\"left\"></img>"
   ]
  },
  {
   "cell_type": "markdown",
   "metadata": {},
   "source": [
    "The angle between two documents:\n",
    "$$\\cos(\\overline{X},\\overline{Y})=\\frac{\\sum_{i=1}^{d} x_{i}y_{i}}{\\sqrt{\\sum_{i=1}^{d}x_{i}^2} \\sqrt{\\sum_{i=1}^{d}y_{i}^2}}$$"
   ]
  },
  {
   "cell_type": "code",
   "execution_count": null,
   "metadata": {},
   "outputs": [],
   "source": []
  },
  {
   "cell_type": "markdown",
   "metadata": {},
   "source": [
    "### Task 7:What metrics not to use?"
   ]
  },
  {
   "cell_type": "code",
   "execution_count": null,
   "metadata": {
    "scrolled": true
   },
   "outputs": [],
   "source": []
  },
  {
   "cell_type": "markdown",
   "metadata": {},
   "source": [
    "If we omit the target during fit, we can visualize the whole dataset to see if any meaningful patterns are observed."
   ]
  },
  {
   "cell_type": "markdown",
   "metadata": {},
   "source": [
    " "
   ]
  },
  {
   "cell_type": "markdown",
   "metadata": {},
   "source": [
    "### Task 8: Omitting Class Labels - Using KMeans Clustering"
   ]
  },
  {
   "cell_type": "code",
   "execution_count": 2,
   "metadata": {},
   "outputs": [],
   "source": [
    "# Don't color points with their classes\n"
   ]
  },
  {
   "cell_type": "code",
   "execution_count": 1,
   "metadata": {},
   "outputs": [],
   "source": [
    "# Apply clustering instead of class names.\n"
   ]
  }
 ],
 "metadata": {
  "kernelspec": {
   "display_name": "Python 3",
   "language": "python",
   "name": "python3"
  },
  "language_info": {
   "codemirror_mode": {
    "name": "ipython",
    "version": 3
   },
   "file_extension": ".py",
   "mimetype": "text/x-python",
   "name": "python",
   "nbconvert_exporter": "python",
   "pygments_lexer": "ipython3",
   "version": "3.6.8"
  }
 },
 "nbformat": 4,
 "nbformat_minor": 2
}
